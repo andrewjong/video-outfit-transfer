{
 "cells": [
  {
   "cell_type": "code",
   "execution_count": 1,
   "metadata": {},
   "outputs": [],
   "source": [
    "# Show all Jupyter output\n",
    "from IPython.core.interactiveshell import InteractiveShell\n",
    "InteractiveShell.ast_node_interactivity = \"all\"\n",
    "\n",
    "import torch\n",
    "from torch import nn\n",
    "from torchvision import models\n",
    "\n",
    "import sys\n",
    "sys.path.append('..')"
   ]
  },
  {
   "cell_type": "code",
   "execution_count": 27,
   "metadata": {},
   "outputs": [],
   "source": [
    "from model.roi_layers import ROIAlign\n",
    "\n",
    "roi_align = ROIAlign((2, 2), 1, 1)\n"
   ]
  },
  {
   "cell_type": "code",
   "execution_count": 3,
   "metadata": {},
   "outputs": [
    {
     "data": {
      "text/plain": [
       "torch.Size([1, 3, 3])"
      ]
     },
     "execution_count": 3,
     "metadata": {},
     "output_type": "execute_result"
    },
    {
     "data": {
      "text/plain": [
       "torch.Size([1, 3, 3, 3])"
      ]
     },
     "execution_count": 3,
     "metadata": {},
     "output_type": "execute_result"
    },
    {
     "data": {
      "text/plain": [
       "tensor([[[[0.1000, 0.2000, 0.3000],\n",
       "          [0.4000, 0.5000, 0.6000],\n",
       "          [0.7000, 0.8000, 0.9000]],\n",
       "\n",
       "         [[0.1000, 0.2000, 0.3000],\n",
       "          [0.4000, 0.5000, 0.6000],\n",
       "          [0.7000, 0.8000, 0.9000]],\n",
       "\n",
       "         [[0.1000, 0.2000, 0.3000],\n",
       "          [0.4000, 0.5000, 0.6000],\n",
       "          [0.7000, 0.8000, 0.9000]]]])"
      ]
     },
     "execution_count": 3,
     "metadata": {},
     "output_type": "execute_result"
    }
   ],
   "source": [
    "x = torch.tensor([\n",
    "    [.1, .2, .3],\n",
    "    [.4, .5, .6],\n",
    "    [.7, .8, .9]\n",
    "])\n",
    "x = x.view(1, 3, 3)\n",
    "x.shape\n",
    "\n",
    "x = x.repeat(1, 3, 1, 1)\n",
    "x.shape\n",
    "x"
   ]
  },
  {
   "cell_type": "code",
   "execution_count": 4,
   "metadata": {},
   "outputs": [],
   "source": [
    "x[0,1,:,:] *= 3"
   ]
  },
  {
   "cell_type": "code",
   "execution_count": 5,
   "metadata": {},
   "outputs": [],
   "source": [
    "x[0,2,:,:] *= 2"
   ]
  },
  {
   "cell_type": "code",
   "execution_count": 6,
   "metadata": {},
   "outputs": [
    {
     "data": {
      "text/plain": [
       "tensor([[[[0.1000, 0.2000, 0.3000],\n",
       "          [0.4000, 0.5000, 0.6000],\n",
       "          [0.7000, 0.8000, 0.9000]],\n",
       "\n",
       "         [[0.3000, 0.6000, 0.9000],\n",
       "          [1.2000, 1.5000, 1.8000],\n",
       "          [2.1000, 2.4000, 2.7000]],\n",
       "\n",
       "         [[0.2000, 0.4000, 0.6000],\n",
       "          [0.8000, 1.0000, 1.2000],\n",
       "          [1.4000, 1.6000, 1.8000]]]])"
      ]
     },
     "execution_count": 6,
     "metadata": {},
     "output_type": "execute_result"
    }
   ],
   "source": [
    "x"
   ]
  },
  {
   "cell_type": "code",
   "execution_count": 7,
   "metadata": {},
   "outputs": [],
   "source": [
    "def make_roi(inp):\n",
    "    roi = torch.tensor(inp)\n",
    "    roi = roi.view(1, -1, 5).float()\n",
    "    return roi"
   ]
  },
  {
   "cell_type": "code",
   "execution_count": null,
   "metadata": {},
   "outputs": [],
   "source": [
    "roi = make_roi([[0, 0, 0, 1, 1]])\n",
    "roi\n",
    "roi.shape"
   ]
  },
  {
   "cell_type": "code",
   "execution_count": null,
   "metadata": {},
   "outputs": [],
   "source": [
    "out = roi_align(x, roi)\n",
    "out\n",
    "out.shape"
   ]
  },
  {
   "cell_type": "code",
   "execution_count": 8,
   "metadata": {},
   "outputs": [
    {
     "data": {
      "text/plain": [
       "tensor([[[[0.2000, 0.2500],\n",
       "          [0.3500, 0.4000]],\n",
       "\n",
       "         [[0.6000, 0.7500],\n",
       "          [1.0500, 1.2000]],\n",
       "\n",
       "         [[0.4000, 0.5000],\n",
       "          [0.7000, 0.8000]]]])"
      ]
     },
     "execution_count": 8,
     "metadata": {},
     "output_type": "execute_result"
    },
    {
     "data": {
      "text/plain": [
       "torch.Size([1, 3, 2, 2])"
      ]
     },
     "execution_count": 8,
     "metadata": {},
     "output_type": "execute_result"
    }
   ],
   "source": [
    "roi = make_roi([\n",
    "    [0, 0, 0, 1, 1],\n",
    "    [1, 0, 0, 1, 1],\n",
    "    [2, 0, 0, 1, 1],\n",
    "    \n",
    "])\n",
    "out = roi_align(x, roi)\n",
    "out\n",
    "out.shape"
   ]
  },
  {
   "cell_type": "code",
   "execution_count": 9,
   "metadata": {},
   "outputs": [
    {
     "data": {
      "text/plain": [
       "tensor([[[[0.2000, 0.2500],\n",
       "          [0.3500, 0.4000]],\n",
       "\n",
       "         [[0.6000, 0.7500],\n",
       "          [1.0500, 1.2000]],\n",
       "\n",
       "         [[0.4000, 0.5000],\n",
       "          [0.7000, 0.8000]]]])"
      ]
     },
     "execution_count": 9,
     "metadata": {},
     "output_type": "execute_result"
    },
    {
     "data": {
      "text/plain": [
       "torch.Size([1, 3, 2, 2])"
      ]
     },
     "execution_count": 9,
     "metadata": {},
     "output_type": "execute_result"
    }
   ],
   "source": [
    "roi = make_roi([\n",
    "    [0, 0, 0, 1, 1],\n",
    "    [0, 0, 0, 1, 1],\n",
    "    [2, 0, 0, 1, 1],\n",
    "    \n",
    "])\n",
    "out = roi_align(x, roi)\n",
    "out\n",
    "out.shape"
   ]
  },
  {
   "cell_type": "markdown",
   "metadata": {},
   "source": [
    "## What happens if multiple rows for the same img id?"
   ]
  },
  {
   "cell_type": "code",
   "execution_count": 10,
   "metadata": {},
   "outputs": [],
   "source": [
    "roi = make_roi([\n",
    "    [0, 0, 0, 1, 1],\n",
    "    [0, 1, 1, 2, 2],\n",
    "    [0, 0, 0, 2, 2],\n",
    "    [2, 0, 0, 1, 1],\n",
    "    \n",
    "])"
   ]
  },
  {
   "cell_type": "code",
   "execution_count": 11,
   "metadata": {},
   "outputs": [
    {
     "data": {
      "text/plain": [
       "tensor([[[[0.2000, 0.2500],\n",
       "          [0.3500, 0.4000]],\n",
       "\n",
       "         [[0.6000, 0.7500],\n",
       "          [1.0500, 1.2000]],\n",
       "\n",
       "         [[0.4000, 0.5000],\n",
       "          [0.7000, 0.8000]]]])"
      ]
     },
     "execution_count": 11,
     "metadata": {},
     "output_type": "execute_result"
    },
    {
     "data": {
      "text/plain": [
       "torch.Size([1, 3, 2, 2])"
      ]
     },
     "execution_count": 11,
     "metadata": {},
     "output_type": "execute_result"
    }
   ],
   "source": [
    "out = roi_align(x, roi)\n",
    "out\n",
    "out.shape"
   ]
  },
  {
   "cell_type": "code",
   "execution_count": 12,
   "metadata": {},
   "outputs": [
    {
     "data": {
      "text/plain": [
       "tensor([[[[0.6000, 0.6500],\n",
       "          [0.7500, 0.8000]],\n",
       "\n",
       "         [[1.8000, 1.9500],\n",
       "          [2.2500, 2.4000]],\n",
       "\n",
       "         [[1.2000, 1.3000],\n",
       "          [1.5000, 1.6000]]]])"
      ]
     },
     "execution_count": 12,
     "metadata": {},
     "output_type": "execute_result"
    },
    {
     "data": {
      "text/plain": [
       "torch.Size([1, 3, 2, 2])"
      ]
     },
     "execution_count": 12,
     "metadata": {},
     "output_type": "execute_result"
    }
   ],
   "source": [
    "roi = make_roi([\n",
    "#     [0, 0, 0, 1, 1],\n",
    "    [0, 1, 1, 2, 2],\n",
    "    [0, 0, 0, 2, 2],\n",
    "    [2, 0, 0, 1, 1],\n",
    "    \n",
    "])\n",
    "out = roi_align(x, roi)\n",
    "out\n",
    "out.shape"
   ]
  },
  {
   "cell_type": "markdown",
   "metadata": {},
   "source": [
    "Seems like it just uses the first found and ignores the others"
   ]
  },
  {
   "cell_type": "code",
   "execution_count": 13,
   "metadata": {},
   "outputs": [
    {
     "data": {
      "text/plain": [
       "tensor([[[[0.3000, 0.4000],\n",
       "          [0.6000, 0.7000]],\n",
       "\n",
       "         [[0.9000, 1.2000],\n",
       "          [1.8000, 2.1000]],\n",
       "\n",
       "         [[0.6000, 0.8000],\n",
       "          [1.2000, 1.4000]]]])"
      ]
     },
     "execution_count": 13,
     "metadata": {},
     "output_type": "execute_result"
    },
    {
     "data": {
      "text/plain": [
       "torch.Size([1, 3, 2, 2])"
      ]
     },
     "execution_count": 13,
     "metadata": {},
     "output_type": "execute_result"
    }
   ],
   "source": [
    "roi = make_roi([\n",
    "#     [0, 0, 0, 1, 1],\n",
    "#     [0, 1, 1, 2, 2],\n",
    "    [0, 0, 0, 2, 2],\n",
    "    [2, 0, 0, 1, 1],\n",
    "    \n",
    "])\n",
    "out = roi_align(x, roi)\n",
    "out\n",
    "out.shape"
   ]
  },
  {
   "cell_type": "markdown",
   "metadata": {},
   "source": [
    "## What happens if multichannel image?"
   ]
  },
  {
   "cell_type": "code",
   "execution_count": null,
   "metadata": {},
   "outputs": [],
   "source": [
    "x = torch.tensor([\n",
    "    [.1, .2, .3],\n",
    "    [.4, .5, .6],\n",
    "    [.7, .8, .9]\n",
    "])\n",
    "x = x.view(1, 3, 3)\n",
    "x.shape\n",
    "\n",
    "x = x.expand(2, 1, 3, 3)\n",
    "x.shape\n",
    "x"
   ]
  },
  {
   "cell_type": "code",
   "execution_count": null,
   "metadata": {},
   "outputs": [],
   "source": [
    "x"
   ]
  },
  {
   "cell_type": "code",
   "execution_count": null,
   "metadata": {},
   "outputs": [],
   "source": [
    "roi = make_roi([\n",
    "        [0, 0, 0, 2, 2],\n",
    "#         [1, 0, 0, 1, 1]\n",
    "    ])\n",
    "roi\n",
    "roi_align(x, roi)"
   ]
  },
  {
   "cell_type": "markdown",
   "metadata": {},
   "source": [
    "# Try with pool"
   ]
  },
  {
   "cell_type": "code",
   "execution_count": null,
   "metadata": {},
   "outputs": [],
   "source": [
    "from model.roi_layers import ROIPool\n",
    "\n",
    "roi_pool = ROIPool((2, 2), 1)"
   ]
  },
  {
   "cell_type": "code",
   "execution_count": null,
   "metadata": {},
   "outputs": [],
   "source": [
    "x\n",
    "x.shape"
   ]
  },
  {
   "cell_type": "code",
   "execution_count": null,
   "metadata": {},
   "outputs": [],
   "source": [
    "roi\n",
    "roi.shape"
   ]
  },
  {
   "cell_type": "code",
   "execution_count": null,
   "metadata": {},
   "outputs": [],
   "source": [
    "roi_pool.cuda()"
   ]
  },
  {
   "cell_type": "code",
   "execution_count": null,
   "metadata": {},
   "outputs": [],
   "source": [
    "out = roi_pool(x.cuda(), roi.cuda())\n",
    "out\n",
    "out.shape"
   ]
  },
  {
   "cell_type": "markdown",
   "metadata": {},
   "source": [
    "Conclusion: gives the same output as ROIAlign. What I'm trying to figure out is how to get individual poolings"
   ]
  },
  {
   "cell_type": "code",
   "execution_count": null,
   "metadata": {},
   "outputs": [],
   "source": []
  },
  {
   "cell_type": "code",
   "execution_count": 29,
   "metadata": {},
   "outputs": [
    {
     "data": {
      "text/plain": [
       "tensor([[0., 0., 0., 1., 3.],\n",
       "        [0., 2., 2., 3., 3.],\n",
       "        [0., 1., 0., 3., 2.]])"
      ]
     },
     "execution_count": 29,
     "metadata": {},
     "output_type": "execute_result"
    },
    {
     "data": {
      "text/plain": [
       "torch.Size([3, 5])"
      ]
     },
     "execution_count": 29,
     "metadata": {},
     "output_type": "execute_result"
    }
   ],
   "source": [
    "rois_value = [\n",
    "    [0, 0, 0, 1, 3],\n",
    "    [0, 2, 2, 3, 3],\n",
    "    [0, 1, 0, 3, 2]\n",
    "]\n",
    "roi = torch.tensor(rois_value).float()\n",
    "roi\n",
    "roi.shape"
   ]
  },
  {
   "cell_type": "code",
   "execution_count": 30,
   "metadata": {},
   "outputs": [
    {
     "data": {
      "text/plain": [
       "tensor([[[[1., 2., 4., 4.],\n",
       "          [3., 4., 1., 2.],\n",
       "          [6., 2., 1., 7.],\n",
       "          [1., 3., 2., 8.]]]])"
      ]
     },
     "execution_count": 30,
     "metadata": {},
     "output_type": "execute_result"
    },
    {
     "data": {
      "text/plain": [
       "torch.Size([1, 1, 4, 4])"
      ]
     },
     "execution_count": 30,
     "metadata": {},
     "output_type": "execute_result"
    }
   ],
   "source": [
    "input_value = [[\n",
    "    [[1], [2], [4], [4]],\n",
    "    [[3], [4], [1], [2]],\n",
    "    [[6], [2], [1], [7]],\n",
    "    [[1], [3], [2], [8]]\n",
    "]]\n",
    "inp = torch.tensor(input_value)\n",
    "inp = inp.view(1,1,4,4).float()\n",
    "inp\n",
    "inp.shape\n",
    "\n"
   ]
  },
  {
   "cell_type": "code",
   "execution_count": 33,
   "metadata": {},
   "outputs": [
    {
     "data": {
      "text/plain": [
       "tensor([[[[2.7500, 3.2500],\n",
       "          [4.1250, 2.8750]]],\n",
       "\n",
       "\n",
       "        [[[2.7500, 5.7500],\n",
       "          [3.2500, 6.2500]]],\n",
       "\n",
       "\n",
       "        [[[2.7500, 2.7500],\n",
       "          [2.0000, 2.7500]]]])"
      ]
     },
     "execution_count": 33,
     "metadata": {},
     "output_type": "execute_result"
    },
    {
     "data": {
      "text/plain": [
       "torch.Size([3, 1, 2, 2])"
      ]
     },
     "execution_count": 33,
     "metadata": {},
     "output_type": "execute_result"
    }
   ],
   "source": [
    "out = roi_align(inp, roi)\n",
    "out\n",
    "out.shape"
   ]
  },
  {
   "cell_type": "markdown",
   "metadata": {},
   "source": [
    "# FUck me, I figured it out. My ROI Tensor was the wrong shape. Previously teh tensor was [batch,rows,coords], but it should JUST BE [rows, coords]. fuck mee"
   ]
  },
  {
   "cell_type": "markdown",
   "metadata": {},
   "source": [
    "## How about misaligned Batch image id? How to fix?"
   ]
  },
  {
   "cell_type": "code",
   "execution_count": null,
   "metadata": {},
   "outputs": [],
   "source": [
    "rois[:, 0] = rois[:,0] - rois[0,0]   # KEY COMPONENT: RESET THE IMAGE IDS PER BATCH SIZE\n",
    "rois"
   ]
  },
  {
   "cell_type": "code",
   "execution_count": null,
   "metadata": {},
   "outputs": [],
   "source": [
    "out = roi_align(x[0], rois=rois)\n",
    "out.shape\n",
    "out"
   ]
  }
 ],
 "metadata": {
  "kernelspec": {
   "display_name": "Python 3",
   "language": "python",
   "name": "python3"
  },
  "language_info": {
   "codemirror_mode": {
    "name": "ipython",
    "version": 3
   },
   "file_extension": ".py",
   "mimetype": "text/x-python",
   "name": "python",
   "nbconvert_exporter": "python",
   "pygments_lexer": "ipython3",
   "version": "3.7.2"
  }
 },
 "nbformat": 4,
 "nbformat_minor": 2
}
