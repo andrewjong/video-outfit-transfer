{
 "cells": [
  {
   "cell_type": "code",
   "execution_count": 1,
   "metadata": {},
   "outputs": [],
   "source": [
    "# Show all Jupyter output\n",
    "from IPython.core.interactiveshell import InteractiveShell\n",
    "InteractiveShell.ast_node_interactivity = \"all\"\n",
    "# import files from above\n",
    "import sys\n",
    "sys.path.append('..')"
   ]
  },
  {
   "cell_type": "code",
   "execution_count": 2,
   "metadata": {},
   "outputs": [],
   "source": [
    "import pandas as pd\n",
    "import numpy as np"
   ]
  },
  {
   "cell_type": "code",
   "execution_count": 3,
   "metadata": {},
   "outputs": [
    {
     "data": {
      "text/plain": [
       "array([[  0,   0,   0, 539, 959],\n",
       "       [  1, 237, 176, 295, 247],\n",
       "       [  2, 211, 241, 324, 438],\n",
       "       [  3, 192, 278, 339, 383],\n",
       "       [  4, 187, 364, 353, 502],\n",
       "       [  5, 219, 427, 324, 561],\n",
       "       [  6, 228, 552, 325, 718]])"
      ]
     },
     "execution_count": 3,
     "metadata": {},
     "output_type": "execute_result"
    },
    {
     "data": {
      "text/plain": [
       "array([[  1, 237, 176, 295, 247],\n",
       "       [  2, 211, 241, 324, 438],\n",
       "       [  3, 192, 278, 339, 383],\n",
       "       [  4, 187, 364, 353, 502],\n",
       "       [  5, 219, 427, 324, 561],\n",
       "       [  6, 228, 552, 325, 718]])"
      ]
     },
     "execution_count": 3,
     "metadata": {},
     "output_type": "execute_result"
    }
   ],
   "source": [
    "rois_file = \"../data/andrew/rois/frame00001.csv\"\n",
    "df = pd.read_csv(rois_file)\n",
    "rois = df.values\n",
    "rois\n",
    "rois = rois[1:, :]\n",
    "rois"
   ]
  },
  {
   "cell_type": "code",
   "execution_count": 4,
   "metadata": {},
   "outputs": [
    {
     "data": {
      "text/plain": [
       "((160, 672), (14, 526))"
      ]
     },
     "execution_count": 4,
     "metadata": {},
     "output_type": "execute_result"
    }
   ],
   "source": [
    "import config\n",
    "crop_bounds = config.CROP_BOUNDS\n",
    "crop_bounds\n",
    "(hmin, hmax), (wmin, wmax) = crop_bounds"
   ]
  },
  {
   "cell_type": "code",
   "execution_count": 5,
   "metadata": {},
   "outputs": [
    {
     "data": {
      "text/plain": [
       "array([[237, 176],\n",
       "       [211, 241],\n",
       "       [192, 278],\n",
       "       [187, 364],\n",
       "       [219, 427],\n",
       "       [228, 552]])"
      ]
     },
     "execution_count": 5,
     "metadata": {},
     "output_type": "execute_result"
    },
    {
     "data": {
      "text/plain": [
       "array([[237, 176],\n",
       "       [211, 241],\n",
       "       [192, 278],\n",
       "       [187, 364],\n",
       "       [219, 427],\n",
       "       [228, 525]])"
      ]
     },
     "execution_count": 5,
     "metadata": {},
     "output_type": "execute_result"
    }
   ],
   "source": [
    "xs = rois[:, (1,2)]\n",
    "xs\n",
    "xs = np.clip(xs, wmin, wmax-1)\n",
    "xs\n"
   ]
  },
  {
   "cell_type": "code",
   "execution_count": 14,
   "metadata": {},
   "outputs": [
    {
     "data": {
      "text/plain": [
       "array([[295, 247],\n",
       "       [324, 438],\n",
       "       [339, 383],\n",
       "       [353, 502],\n",
       "       [324, 561],\n",
       "       [325, 718]])"
      ]
     },
     "execution_count": 14,
     "metadata": {},
     "output_type": "execute_result"
    },
    {
     "data": {
      "text/plain": [
       "array([[295, 247],\n",
       "       [324, 438],\n",
       "       [339, 383],\n",
       "       [353, 502],\n",
       "       [324, 561],\n",
       "       [325, 671]])"
      ]
     },
     "execution_count": 14,
     "metadata": {},
     "output_type": "execute_result"
    },
    {
     "data": {
      "text/plain": [
       "array([[  0,   0],\n",
       "       [ 29, 191],\n",
       "       [ 44, 136],\n",
       "       [ 58, 255],\n",
       "       [ 29, 314],\n",
       "       [ 30, 424]])"
      ]
     },
     "execution_count": 14,
     "metadata": {},
     "output_type": "execute_result"
    }
   ],
   "source": [
    "ys = rois[:, (3, 4)]\n",
    "ys\n",
    "ys = np.clip(ys, hmin, hmax-1)\n",
    "ys\n",
    "ys - ys.min(axis=0)"
   ]
  },
  {
   "cell_type": "code",
   "execution_count": 8,
   "metadata": {},
   "outputs": [
    {
     "data": {
      "text/plain": [
       "array([[  1, 237, 295, 176, 247],\n",
       "       [  2, 211, 324, 241, 438],\n",
       "       [  3, 192, 339, 278, 383],\n",
       "       [  4, 187, 353, 364, 502],\n",
       "       [  5, 219, 324, 427, 561],\n",
       "       [  6, 228, 325, 525, 671]])"
      ]
     },
     "execution_count": 8,
     "metadata": {},
     "output_type": "execute_result"
    }
   ],
   "source": [
    "returned = np.stack((rois[:, 0], xs[:, 0], ys[:, 0], xs[:, 1], ys[:, 1]))\n",
    "returned.T\n",
    "out = returned.T.shape"
   ]
  },
  {
   "cell_type": "code",
   "execution_count": null,
   "metadata": {},
   "outputs": [],
   "source": []
  }
 ],
 "metadata": {
  "kernelspec": {
   "display_name": "Python 3",
   "language": "python",
   "name": "python3"
  },
  "language_info": {
   "codemirror_mode": {
    "name": "ipython",
    "version": 3
   },
   "file_extension": ".py",
   "mimetype": "text/x-python",
   "name": "python",
   "nbconvert_exporter": "python",
   "pygments_lexer": "ipython3",
   "version": "3.6.7"
  }
 },
 "nbformat": 4,
 "nbformat_minor": 2
}
